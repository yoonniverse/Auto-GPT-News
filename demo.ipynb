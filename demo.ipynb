{
 "cells": [
  {
   "cell_type": "code",
   "execution_count": 1,
   "metadata": {},
   "outputs": [],
   "source": [
    "%load_ext autoreload\n",
    "%autoreload 2\n",
    "\n",
    "from src.news_plugin.news import *\n",
    "agent = Agent(\n",
    "    model='gpt-3.5-turbo',\n",
    "    n_urls=10,\n",
    "    chunk_size=3000,\n",
    "    chunk_overlap=10\n",
    ")"
   ]
  },
  {
   "cell_type": "code",
   "execution_count": 2,
   "metadata": {},
   "outputs": [],
   "source": [
    "report = agent(\n",
    "    keyword='Tesla',\n",
    "    goal='Retrieve information that can have impact on Tesla stock price'\n",
    ")"
   ]
  },
  {
   "cell_type": "code",
   "execution_count": 3,
   "metadata": {},
   "outputs": [
    {
     "name": "stdout",
     "output_type": "stream",
     "text": [
      "- Elon Musk's announcement that he will step down as Twitter CEO and take on the role of chief technology officer has led to bullishness among Tesla shareholders [1]\n",
      "- Billionaire investor George Soros' family office sold its entire stake in Tesla during the first quarter of 2023 [2, 3]\n",
      "- Tesla contributed almost 25% of Shanghai's total automotive production value in 2022, generating $26.4 billion [4]\n",
      "- A group of Tesla Model S and Model X owners have filed a proposed class-action lawsuit in California, claiming that automatic software updates from the company have killed their electric cars' battery life [5]\n",
      "- Tesla's stock initially rose after Elon Musk announced Twitter's new CEO, but ultimately finished the trading day over 2% lower [6]\n",
      "- Tesla is recalling 1.1 million vehicles in China to address a braking and acceleration problem, which can be fixed with an over-the-air software update [7, 9, 10]\n",
      "- Oppenheimer's Colin Rusch states that Tesla's main issue is still around demand [8]\n",
      "References\n",
      "1. https://www.msn.com/en-us/money/other/elon-musk-is-giving-tesla-shareholders-reason-for-bullishness-after-his-big-twitter-announcement/ar-AA1bceOK\n",
      "2. https://news.yahoo.com/billionaire-investor-george-soros-fund-095450069.html\n",
      "3. https://www.reuters.com/markets/global-markets-view-usa-2023-05-15/\n",
      "4. https://www.bloomberg.com/news/articles/2023-05-15/tesla-contributes-almost-25-of-shanghai-s-total-auto-production\n",
      "5. https://www.msn.com/en-us/news/technology/tesla-owners-sue-claiming-software-update-killed-ev-battery-life/ar-AA1b8LaC\n",
      "6. https://www.cnbc.com/2023/05/12/tesla-stock-dips-after-musk-names-twitter-ceo-heres-what-the-experts-say.html\n",
      "7. https://www.msn.com/en-us/news/technology/tesla-forced-to-recall-11-million-vehicles-in-china-to-address-braking-problems/ar-AA1b6IO8\n",
      "8. https://www.msn.com/en-us/money/companies/teslas-real-issue-is-still-around-demand-says-oppenheimers-colin-rusch/vi-AA1b6Xap\n",
      "9. https://www.nytimes.com/2023/05/12/business/tesla-recall-china.html\n",
      "10. https://www.msn.com/en-us/autos/news/tesla-is-recalling-almost-every-car-it-has-ever-sold-in-china/ar-AA1b6ZOv\n"
     ]
    }
   ],
   "source": [
    "print(report)"
   ]
  },
  {
   "cell_type": "code",
   "execution_count": null,
   "metadata": {},
   "outputs": [],
   "source": []
  }
 ],
 "metadata": {
  "kernelspec": {
   "display_name": "autogpt",
   "language": "python",
   "name": "python3"
  },
  "language_info": {
   "codemirror_mode": {
    "name": "ipython",
    "version": 3
   },
   "file_extension": ".py",
   "mimetype": "text/x-python",
   "name": "python",
   "nbconvert_exporter": "python",
   "pygments_lexer": "ipython3",
   "version": "3.10.10"
  },
  "orig_nbformat": 4
 },
 "nbformat": 4,
 "nbformat_minor": 2
}
